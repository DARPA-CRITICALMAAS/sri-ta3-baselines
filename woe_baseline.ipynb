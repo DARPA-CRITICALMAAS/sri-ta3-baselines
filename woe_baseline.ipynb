{
 "cells": [
  {
   "cell_type": "markdown",
   "metadata": {},
   "source": [
    "Library imports"
   ]
  },
  {
   "cell_type": "code",
   "execution_count": 1,
   "metadata": {},
   "outputs": [],
   "source": [
    "import pandas as pd\n",
    "import numpy as np\n",
    "import seaborn as sns\n",
    "\n",
    "from sklearn.metrics import roc_auc_score\n",
    "\n",
    "import utilities as utils"
   ]
  },
  {
   "cell_type": "markdown",
   "metadata": {},
   "source": [
    "Loads the datacube"
   ]
  },
  {
   "cell_type": "code",
   "execution_count": 2,
   "metadata": {},
   "outputs": [
    {
     "data": {
      "text/html": [
       "<div>\n",
       "<style scoped>\n",
       "    .dataframe tbody tr th:only-of-type {\n",
       "        vertical-align: middle;\n",
       "    }\n",
       "\n",
       "    .dataframe tbody tr th {\n",
       "        vertical-align: top;\n",
       "    }\n",
       "\n",
       "    .dataframe thead th {\n",
       "        text-align: right;\n",
       "    }\n",
       "</style>\n",
       "<table border=\"1\" class=\"dataframe\">\n",
       "  <thead>\n",
       "    <tr style=\"text-align: right;\">\n",
       "      <th></th>\n",
       "      <th>ï»¿\"H3_Address\"</th>\n",
       "      <th>H3_Resolution</th>\n",
       "      <th>H3_Geometry</th>\n",
       "      <th>Longitude_EPSG4326</th>\n",
       "      <th>Latitude_EPSG4326</th>\n",
       "      <th>Continent_Majority</th>\n",
       "      <th>Continent_Minority</th>\n",
       "      <th>Country_Majority</th>\n",
       "      <th>Country_Minority</th>\n",
       "      <th>Province_Majority</th>\n",
       "      <th>...</th>\n",
       "      <th>Litmod_Density_Asthenosphere</th>\n",
       "      <th>Litmod_Density_Crust</th>\n",
       "      <th>Litmod_Density_Lithosphere</th>\n",
       "      <th>Crust1_Type</th>\n",
       "      <th>Crust1_CrustalThickness</th>\n",
       "      <th>Crust1_SedimentThickness</th>\n",
       "      <th>Training_MVT_Deposit</th>\n",
       "      <th>Training_MVT_Occurrence</th>\n",
       "      <th>Training_CD_Deposit</th>\n",
       "      <th>Training_CD_Occurrence</th>\n",
       "    </tr>\n",
       "  </thead>\n",
       "  <tbody>\n",
       "    <tr>\n",
       "      <th>0</th>\n",
       "      <td>8712e579bffffff</td>\n",
       "      <td>7</td>\n",
       "      <td>POLYGON ((-115.0314 54.5077, -115.0393 54.4961...</td>\n",
       "      <td>-115.018142</td>\n",
       "      <td>54.497221</td>\n",
       "      <td>North America</td>\n",
       "      <td>North America</td>\n",
       "      <td>Canada</td>\n",
       "      <td>Canada</td>\n",
       "      <td>Alberta</td>\n",
       "      <td>...</td>\n",
       "      <td>3480.580078</td>\n",
       "      <td>2891.260254</td>\n",
       "      <td>3337.300049</td>\n",
       "      <td>island arc</td>\n",
       "      <td>-38.450497</td>\n",
       "      <td>2991.459961</td>\n",
       "      <td>Absent</td>\n",
       "      <td>Absent</td>\n",
       "      <td>Absent</td>\n",
       "      <td>Absent</td>\n",
       "    </tr>\n",
       "    <tr>\n",
       "      <th>1</th>\n",
       "      <td>8712e579affffff</td>\n",
       "      <td>7</td>\n",
       "      <td>POLYGON ((-115.0658 54.51706, -115.0737 54.505...</td>\n",
       "      <td>-115.052542</td>\n",
       "      <td>54.506590</td>\n",
       "      <td>North America</td>\n",
       "      <td>North America</td>\n",
       "      <td>Canada</td>\n",
       "      <td>Canada</td>\n",
       "      <td>Alberta</td>\n",
       "      <td>...</td>\n",
       "      <td>3480.580078</td>\n",
       "      <td>2891.260010</td>\n",
       "      <td>3337.300293</td>\n",
       "      <td>island arc</td>\n",
       "      <td>-38.430000</td>\n",
       "      <td>3000.000244</td>\n",
       "      <td>Absent</td>\n",
       "      <td>Absent</td>\n",
       "      <td>Absent</td>\n",
       "      <td>Absent</td>\n",
       "    </tr>\n",
       "    <tr>\n",
       "      <th>2</th>\n",
       "      <td>8712e56b4ffffff</td>\n",
       "      <td>7</td>\n",
       "      <td>POLYGON ((-115.0604 54.49501, -115.0682 54.483...</td>\n",
       "      <td>-115.047107</td>\n",
       "      <td>54.484541</td>\n",
       "      <td>North America</td>\n",
       "      <td>North America</td>\n",
       "      <td>Canada</td>\n",
       "      <td>Canada</td>\n",
       "      <td>Alberta</td>\n",
       "      <td>...</td>\n",
       "      <td>3480.580078</td>\n",
       "      <td>2891.259766</td>\n",
       "      <td>3337.300049</td>\n",
       "      <td>island arc</td>\n",
       "      <td>-38.430000</td>\n",
       "      <td>3000.000000</td>\n",
       "      <td>Absent</td>\n",
       "      <td>Absent</td>\n",
       "      <td>Absent</td>\n",
       "      <td>Absent</td>\n",
       "    </tr>\n",
       "    <tr>\n",
       "      <th>3</th>\n",
       "      <td>8712e56b5ffffff</td>\n",
       "      <td>7</td>\n",
       "      <td>POLYGON ((-115.026 54.48564, -115.0338 54.4740...</td>\n",
       "      <td>-115.012729</td>\n",
       "      <td>54.475169</td>\n",
       "      <td>North America</td>\n",
       "      <td>North America</td>\n",
       "      <td>Canada</td>\n",
       "      <td>Canada</td>\n",
       "      <td>Alberta</td>\n",
       "      <td>...</td>\n",
       "      <td>3480.580078</td>\n",
       "      <td>2891.260010</td>\n",
       "      <td>3337.300049</td>\n",
       "      <td>island arc</td>\n",
       "      <td>-38.591599</td>\n",
       "      <td>2932.666504</td>\n",
       "      <td>Absent</td>\n",
       "      <td>Absent</td>\n",
       "      <td>Absent</td>\n",
       "      <td>Absent</td>\n",
       "    </tr>\n",
       "    <tr>\n",
       "      <th>4</th>\n",
       "      <td>8712e56a6ffffff</td>\n",
       "      <td>7</td>\n",
       "      <td>POLYGON ((-114.997 54.49832, -115.0049 54.4867...</td>\n",
       "      <td>-114.983753</td>\n",
       "      <td>54.487840</td>\n",
       "      <td>North America</td>\n",
       "      <td>North America</td>\n",
       "      <td>Canada</td>\n",
       "      <td>Canada</td>\n",
       "      <td>Alberta</td>\n",
       "      <td>...</td>\n",
       "      <td>3480.580078</td>\n",
       "      <td>2891.260010</td>\n",
       "      <td>3337.300049</td>\n",
       "      <td>island arc</td>\n",
       "      <td>-39.815273</td>\n",
       "      <td>2422.801758</td>\n",
       "      <td>Absent</td>\n",
       "      <td>Absent</td>\n",
       "      <td>Absent</td>\n",
       "      <td>Absent</td>\n",
       "    </tr>\n",
       "  </tbody>\n",
       "</table>\n",
       "<p>5 rows × 97 columns</p>\n",
       "</div>"
      ],
      "text/plain": [
       "   ï»¿\"H3_Address\"  H3_Resolution  \\\n",
       "0  8712e579bffffff              7   \n",
       "1  8712e579affffff              7   \n",
       "2  8712e56b4ffffff              7   \n",
       "3  8712e56b5ffffff              7   \n",
       "4  8712e56a6ffffff              7   \n",
       "\n",
       "                                         H3_Geometry  Longitude_EPSG4326  \\\n",
       "0  POLYGON ((-115.0314 54.5077, -115.0393 54.4961...         -115.018142   \n",
       "1  POLYGON ((-115.0658 54.51706, -115.0737 54.505...         -115.052542   \n",
       "2  POLYGON ((-115.0604 54.49501, -115.0682 54.483...         -115.047107   \n",
       "3  POLYGON ((-115.026 54.48564, -115.0338 54.4740...         -115.012729   \n",
       "4  POLYGON ((-114.997 54.49832, -115.0049 54.4867...         -114.983753   \n",
       "\n",
       "   Latitude_EPSG4326 Continent_Majority Continent_Minority Country_Majority  \\\n",
       "0          54.497221      North America      North America           Canada   \n",
       "1          54.506590      North America      North America           Canada   \n",
       "2          54.484541      North America      North America           Canada   \n",
       "3          54.475169      North America      North America           Canada   \n",
       "4          54.487840      North America      North America           Canada   \n",
       "\n",
       "  Country_Minority Province_Majority  ... Litmod_Density_Asthenosphere  \\\n",
       "0           Canada           Alberta  ...                  3480.580078   \n",
       "1           Canada           Alberta  ...                  3480.580078   \n",
       "2           Canada           Alberta  ...                  3480.580078   \n",
       "3           Canada           Alberta  ...                  3480.580078   \n",
       "4           Canada           Alberta  ...                  3480.580078   \n",
       "\n",
       "  Litmod_Density_Crust Litmod_Density_Lithosphere Crust1_Type  \\\n",
       "0          2891.260254                3337.300049  island arc   \n",
       "1          2891.260010                3337.300293  island arc   \n",
       "2          2891.259766                3337.300049  island arc   \n",
       "3          2891.260010                3337.300049  island arc   \n",
       "4          2891.260010                3337.300049  island arc   \n",
       "\n",
       "   Crust1_CrustalThickness Crust1_SedimentThickness Training_MVT_Deposit  \\\n",
       "0               -38.450497              2991.459961               Absent   \n",
       "1               -38.430000              3000.000244               Absent   \n",
       "2               -38.430000              3000.000000               Absent   \n",
       "3               -38.591599              2932.666504               Absent   \n",
       "4               -39.815273              2422.801758               Absent   \n",
       "\n",
       "  Training_MVT_Occurrence Training_CD_Deposit Training_CD_Occurrence  \n",
       "0                  Absent              Absent                 Absent  \n",
       "1                  Absent              Absent                 Absent  \n",
       "2                  Absent              Absent                 Absent  \n",
       "3                  Absent              Absent                 Absent  \n",
       "4                  Absent              Absent                 Absent  \n",
       "\n",
       "[5 rows x 97 columns]"
      ]
     },
     "execution_count": 2,
     "metadata": {},
     "output_type": "execute_result"
    }
   ],
   "source": [
    "data = utils.load_dataset()\n",
    "data.head()"
   ]
  },
  {
   "cell_type": "code",
   "execution_count": 3,
   "metadata": {},
   "outputs": [
    {
     "name": "stdout",
     "output_type": "stream",
     "text": [
      "<class 'pandas.core.frame.DataFrame'>\n",
      "RangeIndex: 5164970 entries, 0 to 5164969\n",
      "Data columns (total 97 columns):\n",
      " #   Column                                          Dtype  \n",
      "---  ------                                          -----  \n",
      " 0   ï»¿\"H3_Address\"                                 object \n",
      " 1   H3_Resolution                                   int64  \n",
      " 2   H3_Geometry                                     object \n",
      " 3   Longitude_EPSG4326                              float64\n",
      " 4   Latitude_EPSG4326                               float64\n",
      " 5   Continent_Majority                              object \n",
      " 6   Continent_Minority                              object \n",
      " 7   Country_Majority                                object \n",
      " 8   Country_Minority                                object \n",
      " 9   Province_Majority                               object \n",
      " 10  Province_Minority                               object \n",
      " 11  Terrane_Majority                                object \n",
      " 12  Terrane_Minority                                object \n",
      " 13  Terrane_Contact                                 object \n",
      " 14  Terrane_Proximity                               float64\n",
      " 15  Geology_Eon_Maximum_Majority                    object \n",
      " 16  Geology_Eon_Maximum_Minority                    object \n",
      " 17  Geology_Eon_Minimum_Majority                    object \n",
      " 18  Geology_Eon_Minimum_Minority                    object \n",
      " 19  Geology_Era_Maximum_Majority                    object \n",
      " 20  Geology_Era_Maximum_Minority                    object \n",
      " 21  Geology_Era_Minimum_Majority                    object \n",
      " 22  Geology_Era_Minimum_Minority                    object \n",
      " 23  Geology_Period_Maximum_Majority                 object \n",
      " 24  Geology_Period_Maximum_Minority                 object \n",
      " 25  Geology_Period_Minimum_Majority                 object \n",
      " 26  Geology_Period_Minimum_Minority                 object \n",
      " 27  Geology_Period_Contact                          object \n",
      " 28  Geology_Lithology_Majority                      object \n",
      " 29  Geology_Lithology_Minority                      object \n",
      " 30  Geology_Lithology_Contact                       object \n",
      " 31  Geology_Dictionary_Alkalic                      object \n",
      " 32  Geology_Dictionary_Anatectic                    object \n",
      " 33  Geology_Dictionary_Calcareous                   object \n",
      " 34  Geology_Dictionary_Carbonaceous                 object \n",
      " 35  Geology_Dictionary_Cherty                       object \n",
      " 36  Geology_Dictionary_CoarseClastic                object \n",
      " 37  Geology_Dictionary_Evaporitic                   object \n",
      " 38  Geology_Dictionary_Felsic                       object \n",
      " 39  Geology_Dictionary_FineClastic                  object \n",
      " 40  Geology_Dictionary_Gneissose                    object \n",
      " 41  Geology_Dictionary_Igneous                      object \n",
      " 42  Geology_Dictionary_Intermediate                 object \n",
      " 43  Geology_Dictionary_Pegmatitic                   object \n",
      " 44  Geology_Dictionary_RedBed                       object \n",
      " 45  Geology_Dictionary_Schistose                    object \n",
      " 46  Geology_Dictionary_Sedimentary                  object \n",
      " 47  Geology_Dictionary_UltramaficMafic              object \n",
      " 48  Geology_PassiveMargin_Proximity                 float64\n",
      " 49  Geology_BlackShale_Proximity                    float64\n",
      " 50  Geology_Fault_Proximity                         float64\n",
      " 51  Geology_CoverThickness                          float64\n",
      " 52  Geology_Paleolongitude_Period_Maximum           float64\n",
      " 53  Geology_Paleolongitude_Period_Minimum           float64\n",
      " 54  Geology_Paleolatitude_Period_Maximum            float64\n",
      " 55  Geology_Paleolatitude_Period_Minimum            float64\n",
      " 56  Seismic_LAB_Hoggard                             float64\n",
      " 57  Seismic_LAB_Priestley                           float64\n",
      " 58  Seismic_Moho                                    float64\n",
      " 59  Seismic_Moho_GEMMA                              float64\n",
      " 60  Seismic_Moho_Szwillus                           float64\n",
      " 61  Seismic_Velocity_050km                          float64\n",
      " 62  Seismic_Velocity_100km                          float64\n",
      " 63  Seismic_Velocity_150km                          float64\n",
      " 64  Seismic_Velocity_200km                          float64\n",
      " 65  Gravity_GOCE_Differential                       float64\n",
      " 66  Gravity_GOCE_MaximumCurve                       float64\n",
      " 67  Gravity_GOCE_MinimumCurve                       float64\n",
      " 68  Gravity_GOCE_MeanCurve                          float64\n",
      " 69  Gravity_GOCE_ShapeIndex                         float64\n",
      " 70  Gravity_Bouguer                                 float64\n",
      " 71  Gravity_Bouguer_BGI                             float64\n",
      " 72  Gravity_Bouguer_HGM                             float64\n",
      " 73  Gravity_Bouguer_HGM_Worms_Proximity             float64\n",
      " 74  Gravity_Bouguer_UpCont30km                      float64\n",
      " 75  Gravity_Bouguer_UpCont30km_HGM                  float64\n",
      " 76  Gravity_Bouguer_UpCont30km_HGM_Worms_Proximity  float64\n",
      " 77  Magnetic_RTP                                    float64\n",
      " 78  Magnetic_EMAG2v3                                float64\n",
      " 79  Magnetic_EMAG2v3_CuriePoint                     float64\n",
      " 80  Magnetic_1VD                                    float64\n",
      " 81  Magnetic_HGM                                    float64\n",
      " 82  Magnetic_HGM_Worms_Proximity                    float64\n",
      " 83  Magnetic_LongWavelength_HGM                     float64\n",
      " 84  Magnetic_LongWavelength_HGM_Worms_Proximity     float64\n",
      " 85  HeatFlow                                        float64\n",
      " 86  Magnetotelluric                                 float64\n",
      " 87  Litmod_Density_Asthenosphere                    float64\n",
      " 88  Litmod_Density_Crust                            float64\n",
      " 89  Litmod_Density_Lithosphere                      float64\n",
      " 90  Crust1_Type                                     object \n",
      " 91  Crust1_CrustalThickness                         float64\n",
      " 92  Crust1_SedimentThickness                        float64\n",
      " 93  Training_MVT_Deposit                            bool   \n",
      " 94  Training_MVT_Occurrence                         bool   \n",
      " 95  Training_CD_Deposit                             bool   \n",
      " 96  Training_CD_Occurrence                          bool   \n",
      "dtypes: bool(4), float64(47), int64(1), object(45)\n",
      "memory usage: 3.6+ GB\n"
     ]
    }
   ],
   "source": [
    "# modifies the labeLs to booleans\n",
    "data[\"Training_MVT_Deposit\"] = data[\"Training_MVT_Deposit\"].apply(lambda x: True if x == \"Present\" else False)\n",
    "data[\"Training_MVT_Occurrence\"] = data[\"Training_MVT_Occurrence\"].apply(lambda x: True if x == \"Present\" else False)\n",
    "data[\"Training_CD_Deposit\"] = data[\"Training_CD_Deposit\"].apply(lambda x: True if x == \"Present\" else False)\n",
    "data[\"Training_CD_Occurrence\"] = data[\"Training_CD_Occurrence\"].apply(lambda x: True if x == \"Present\" else False)\n",
    "\n",
    "data.info()"
   ]
  },
  {
   "cell_type": "markdown",
   "metadata": {},
   "source": [
    "Selects the data /labels used for MVT WOE baseline"
   ]
  },
  {
   "cell_type": "code",
   "execution_count": 4,
   "metadata": {},
   "outputs": [],
   "source": [
    "baseline_cols = utils.load_features_list()\n",
    "mvt_data = data[baseline_cols]"
   ]
  },
  {
   "cell_type": "markdown",
   "metadata": {},
   "source": [
    "The following function finds all the neighbors and creates a new column \"MVT_Deposit\".\n",
    "Original paper treats neighbors of polygons with \"Training_MVT_Deposit=Present\" and \"Training_MVT_Occurrence=Present\" as mineral present, \"MVT_Deposit=Present\" (note: now Deposit means - Deposit, Occurrence, or their neighbor). "
   ]
  },
  {
   "cell_type": "code",
   "execution_count": 5,
   "metadata": {},
   "outputs": [
    {
     "name": "stderr",
     "output_type": "stream",
     "text": [
      "/home/local/SRI/e33725/AIE-CMAAS/baselines/utilities.py:35: SettingWithCopyWarning: \n",
      "A value is trying to be set on a copy of a slice from a DataFrame.\n",
      "Try using .loc[row_indexer,col_indexer] = value instead\n",
      "\n",
      "See the caveats in the documentation: https://pandas.pydata.org/pandas-docs/stable/user_guide/indexing.html#returning-a-view-versus-a-copy\n",
      "  # merging Deposit and Occurrence\n",
      "/home/local/SRI/e33725/AIE-CMAAS/baselines/utilities.py:38: SettingWithCopyWarning: \n",
      "A value is trying to be set on a copy of a slice from a DataFrame.\n",
      "Try using .loc[row_indexer,col_indexer] = value instead\n",
      "\n",
      "See the caveats in the documentation: https://pandas.pydata.org/pandas-docs/stable/user_guide/indexing.html#returning-a-view-versus-a-copy\n",
      "  #  converting H3_Geometry POLYGON(()) to list of 6 coordinates [(* *), (* *), (* *), (* *), (* *), (* *)]\n",
      "/home/local/SRI/e33725/AIE-CMAAS/baselines/utilities.py:53: SettingWithCopyWarning: \n",
      "A value is trying to be set on a copy of a slice from a DataFrame.\n",
      "Try using .loc[row_indexer,col_indexer] = value instead\n",
      "\n",
      "See the caveats in the documentation: https://pandas.pydata.org/pandas-docs/stable/user_guide/indexing.html#returning-a-view-versus-a-copy\n",
      "  # if YES then it's a neighbor or itself polygon\n"
     ]
    }
   ],
   "source": [
    "mvt_data = utils.neighbor_deposits(mvt_data)"
   ]
  },
  {
   "cell_type": "code",
   "execution_count": 6,
   "metadata": {},
   "outputs": [
    {
     "name": "stdout",
     "output_type": "stream",
     "text": [
      "MVT_Deposit\n",
      "False    5162943\n",
      "True        2027\n",
      "Name: count, dtype: int64\n",
      "MVT_Deposit_wNeighbors\n",
      "False    5155482\n",
      "True        9488\n",
      "Name: count, dtype: int64\n"
     ]
    }
   ],
   "source": [
    "print(mvt_data['MVT_Deposit'].value_counts())\n",
    "print(mvt_data['MVT_Deposit_wNeighbors'].value_counts())"
   ]
  },
  {
   "cell_type": "code",
   "execution_count": 7,
   "metadata": {},
   "outputs": [],
   "source": [
    "mvt_labels = mvt_data['MVT_Deposit_wNeighbors']\n",
    "mvt_data = mvt_data.drop(columns=['H3_Geometry', 'Training_MVT_Deposit', 'Training_MVT_Occurrence', 'MVT_Deposit', 'MVT_Deposit_wNeighbors'])\n",
    "baseline_cols = baseline_cols[1:-2]"
   ]
  },
  {
   "cell_type": "markdown",
   "metadata": {},
   "source": [
    "Clearly the dataset has MANY outliers, as reported in the paper"
   ]
  },
  {
   "cell_type": "code",
   "execution_count": 8,
   "metadata": {},
   "outputs": [
    {
     "data": {
      "image/png": "[encoded data removed]",
      "text/plain": [
       "<Figure size 640x480 with 1 Axes>"
      ]
     },
     "metadata": {},
     "output_type": "display_data"
    }
   ],
   "source": [
    "ax = sns.boxplot(data=mvt_data, orient=\"h\", palette=\"Set2\")"
   ]
  },
  {
   "cell_type": "markdown",
   "metadata": {},
   "source": [
    "We can remove these outliers"
   ]
  },
  {
   "cell_type": "code",
   "execution_count": null,
   "metadata": {},
   "outputs": [],
   "source": [
    "mvt_data = utils.tukey_remove_outliers(mvt_data)\n",
    "ax = sns.boxplot(data=mvt_data, orient=\"h\", palette=\"Set2\")"
   ]
  },
  {
   "cell_type": "markdown",
   "metadata": {},
   "source": [
    "There are also many NaNs in the data, these can be \"imputed\" with the mean value."
   ]
  },
  {
   "cell_type": "code",
   "execution_count": null,
   "metadata": {},
   "outputs": [],
   "source": [
    "print(mvt_data.isna().sum())"
   ]
  },
  {
   "cell_type": "code",
   "execution_count": null,
   "metadata": {},
   "outputs": [],
   "source": [
    "mvt_data = utils.impute_nans(mvt_data)\n",
    "print(mvt_data.isna().sum())"
   ]
  },
  {
   "cell_type": "markdown",
   "metadata": {},
   "source": [
    "Finally, it can be observed the above data is not \"normalized\", we should make features standard scores / z-scores"
   ]
  },
  {
   "cell_type": "code",
   "execution_count": null,
   "metadata": {},
   "outputs": [],
   "source": [
    "mvt_data = utils.normalize_df(mvt_data)\n",
    "ax = sns.boxplot(data=mvt_data, orient=\"h\", palette=\"Set2\")\n",
    "print(\"(note remaining outliers above were within the Tukey fences calculated over ALL the data)\")"
   ]
  },
  {
   "cell_type": "markdown",
   "metadata": {},
   "source": [
    "Discretizes the continuous variables in 5 bins"
   ]
  },
  {
   "cell_type": "code",
   "execution_count": null,
   "metadata": {},
   "outputs": [],
   "source": [
    "nbins = 5\n",
    "for col in baseline_cols:\n",
    "    mvt_data[col] = pd.qcut(mvt_data[col], nbins)\n",
    "mvt_data[\"target\"] = mvt_labels"
   ]
  },
  {
   "cell_type": "markdown",
   "metadata": {},
   "source": [
    "WOE and IV computation from online"
   ]
  },
  {
   "cell_type": "markdown",
   "metadata": {},
   "source": [
    "Computes WOE / IV for each variable"
   ]
  },
  {
   "cell_type": "code",
   "execution_count": null,
   "metadata": {},
   "outputs": [],
   "source": [
    "lst = []\n",
    "IV_df = pd.DataFrame(columns=['Variable','IV'])\n",
    "for col in mvt_data.columns:\n",
    "    if col == 'DEFAULTER': continue\n",
    "    else:\n",
    "        df, iv = utils.calculate_woe_iv(mvt_data, col, 'target')\n",
    "               \n",
    "    lst.append(df)\n",
    "    IV_df = pd.concat([IV_df, pd.DataFrame([{\"Variable\" :col ,\"IV\" : iv,}])],ignore_index=True)"
   ]
  },
  {
   "cell_type": "markdown",
   "metadata": {},
   "source": [
    "Merge the WOE data into the existig input datacube"
   ]
  },
  {
   "cell_type": "code",
   "execution_count": null,
   "metadata": {},
   "outputs": [],
   "source": [
    "# shows the overall IV for all variables on MVT deposits/occurences\n",
    "print(f\"Information Value Overview:\\n{IV_df}\\n\\n\\n\")\n",
    "\n",
    "# shows the WOE for all variables on MVT deposits/occurences\n",
    "mvt_result = mvt_data\n",
    "for i, col in enumerate(baseline_cols):\n",
    "    col_data = lst[i]\n",
    "    col_data = col_data.rename(columns={\"Value\":col,\"WoE\":f\"{col}_WoE\", \"IV\":f\"{col}_IV\"})\n",
    "    mvt_result = pd.merge(mvt_result, col_data[[col,f\"{col}_WoE\",f\"{col}_IV\"]], on=col)"
   ]
  },
  {
   "cell_type": "markdown",
   "metadata": {},
   "source": [
    "Combines the WOE for each comlumn"
   ]
  },
  {
   "cell_type": "code",
   "execution_count": null,
   "metadata": {},
   "outputs": [],
   "source": [
    "mvt_result[\"WOE Total\"] = mvt_result.loc[:,[f\"{col}_WoE\" for col in baseline_cols]].sum(axis=1)"
   ]
  },
  {
   "cell_type": "markdown",
   "metadata": {},
   "source": [
    "Adds the latitudes to the datacube to make train, validation, and test splits"
   ]
  },
  {
   "cell_type": "code",
   "execution_count": null,
   "metadata": {},
   "outputs": [],
   "source": [
    "mvt_result[\"Latitude_EPSG4326\"] = data[\"Latitude_EPSG4326\"]\n",
    "te_df, tr_df, splits = utils.get_spatial_cross_val_idx(mvt_result)"
   ]
  },
  {
   "cell_type": "code",
   "execution_count": null,
   "metadata": {},
   "outputs": [],
   "source": [
    "auc_score = roc_auc_score(tr_df[\"target\"],tr_df[\"WOE Total\"])\n",
    "print(f\"Train AUC score:{auc_score}\")\n",
    "auc_score = roc_auc_score(te_df[\"target\"],te_df[\"WOE Total\"])\n",
    "print(f\"Test AUC score:{auc_score}\")\n",
    "auc_score = roc_auc_score(mvt_result[\"target\"],mvt_result[\"WOE Total\"])\n",
    "print(f\"All AUC score:{auc_score}\")"
   ]
  },
  {
   "cell_type": "markdown",
   "metadata": {},
   "source": [
    "Shows the cross validation splits (train / val); test split is held out of cross validation"
   ]
  },
  {
   "cell_type": "code",
   "execution_count": null,
   "metadata": {},
   "outputs": [],
   "source": [
    "for i, (train_index, val_index) in enumerate(splits):\n",
    "    print(f\"Fold {i}:\")\n",
    "    print(f\"  Train: groups={np.unique(tr_df.iloc[train_index.tolist()]['group'].tolist())}\")\n",
    "    print(f\"  Val: groups={np.unique(tr_df.iloc[val_index.tolist()]['group'].tolist())}\")"
   ]
  }
 ],
 "metadata": {
  "kernelspec": {
   "display_name": "Python 3.8.17 ('ta3-baseline')",
   "language": "python",
   "name": "python3"
  },
  "language_info": {
   "codemirror_mode": {
    "name": "ipython",
    "version": 3
   },
   "file_extension": ".py",
   "mimetype": "text/x-python",
   "name": "python",
   "nbconvert_exporter": "python",
   "pygments_lexer": "ipython3",
   "version": "3.8.17"
  },
  "orig_nbformat": 4,
  "vscode": {
   "interpreter": {
    "hash": "a889bf86c571e47d694f89bf6d4cbe88127ce72526efd7473fd0231b3a36577b"
   }
  }
 },
 "nbformat": 4,
 "nbformat_minor": 2
}
