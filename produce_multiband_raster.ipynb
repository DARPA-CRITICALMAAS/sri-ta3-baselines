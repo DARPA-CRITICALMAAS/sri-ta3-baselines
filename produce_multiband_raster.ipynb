{
 "cells": [
  {
   "cell_type": "markdown",
   "metadata": {},
   "source": [
    "#### Library imports"
   ]
  },
  {
   "cell_type": "code",
   "execution_count": 1,
   "metadata": {},
   "outputs": [],
   "source": [
    "import rasterio\n",
    "import os\n",
    "from tqdm import tqdm"
   ]
  },
  {
   "cell_type": "markdown",
   "metadata": {},
   "source": [
    "#### Set the list / order of rasters to be combined"
   ]
  },
  {
   "cell_type": "code",
   "execution_count": 2,
   "metadata": {},
   "outputs": [],
   "source": [
    "multi_tif_files = {\n",
    "    \"datacube_north-america.tif\": [\n",
    "        \"datacube_north-america_depth-to-lab.tif\",\n",
    "        \"datacube_north-america_depth-to-moho.tif\",\n",
    "        \"datacube_north-america_geology_paleolatitude_period_minimum.tif\",\n",
    "        \"datacube_north-america_gravity-bouguer.tif\",\n",
    "        \"datacube_north-america_gravity-hgm.tif\",\n",
    "        \"datacube_north-america_gravity-upward-continued-hgm.tif\",\n",
    "        \"datacube_north-america_gravity-upward-continued-worms.tif\",\n",
    "        \"datacube_north-america_gravity-worms.tif\",\n",
    "        \"datacube_north-america_igneous-dictionaries.tif\",\n",
    "        \"datacube_north-america_lithology-(major)_0.tif\",\n",
    "        \"datacube_north-america_lithology-(major)_1.tif\",\n",
    "        \"datacube_north-america_lithology-(major)_2.tif\",\n",
    "        \"datacube_north-america_lithology-(major)_3.tif\",\n",
    "        \"datacube_north-america_lithology-(major)_4.tif\",\n",
    "        \"datacube_north-america_lithology-(major)_5.tif\",\n",
    "        \"datacube_north-america_lithology-(major)_6.tif\",\n",
    "        \"datacube_north-america_lithology-(major)_7.tif\",\n",
    "        \"datacube_north-america_lithology-(major)_8.tif\",\n",
    "        \"datacube_north-america_lithology-(minor)_0.tif\",\n",
    "        \"datacube_north-america_lithology-(minor)_1.tif\",\n",
    "        \"datacube_north-america_lithology-(minor)_2.tif\",\n",
    "        \"datacube_north-america_lithology-(minor)_3.tif\",\n",
    "        \"datacube_north-america_lithology-(minor)_4.tif\",\n",
    "        \"datacube_north-america_lithology-(minor)_5.tif\",\n",
    "        \"datacube_north-america_lithology-(minor)_6.tif\",\n",
    "        \"datacube_north-america_lithology-(minor)_7.tif\",\n",
    "        \"datacube_north-america_lithology-(minor)_8.tif\",\n",
    "        \"datacube_north-america_lithology-(minor)_9.tif\",\n",
    "        \"datacube_north-america_magnetic-hgm.tif\",\n",
    "        \"datacube_north-america_magnetic-long-wavelength-hgm.tif\",\n",
    "        \"datacube_north-america_magnetic-long-wavelength-worms.tif\",\n",
    "        \"datacube_north-america_magnetic-worms.tif\",\n",
    "        \"datacube_north-america_metamorphic-dictionaries.tif\",\n",
    "        \"datacube_north-america_period-(maximum)_0.tif\",\n",
    "        \"datacube_north-america_period-(maximum)_1.tif\",\n",
    "        \"datacube_north-america_period-(maximum)_2.tif\",\n",
    "        \"datacube_north-america_period-(maximum)_3.tif\",\n",
    "        \"datacube_north-america_period-(maximum)_4.tif\",\n",
    "        \"datacube_north-america_period-(maximum)_5.tif\",\n",
    "        \"datacube_north-america_period-(maximum)_6.tif\",\n",
    "        \"datacube_north-america_period-(maximum)_7.tif\",\n",
    "        \"datacube_north-america_period-(maximum)_8.tif\",\n",
    "        \"datacube_north-america_period-(maximum)_9.tif\",\n",
    "        \"datacube_north-america_period-(maximum)_10.tif\",\n",
    "        \"datacube_north-america_period-(maximum)_11.tif\",\n",
    "        \"datacube_north-america_period-(maximum)_12.tif\",\n",
    "        \"datacube_north-america_period-(maximum)_13.tif\",\n",
    "        \"datacube_north-america_period-(maximum)_14.tif\",\n",
    "        \"datacube_north-america_period-(maximum)_15.tif\",\n",
    "        \"datacube_north-america_period-(maximum)_16.tif\",\n",
    "        \"datacube_north-america_period-(minimum)_0.tif\",\n",
    "        \"datacube_north-america_period-(minimum)_1.tif\",\n",
    "        \"datacube_north-america_period-(minimum)_2.tif\",\n",
    "        \"datacube_north-america_period-(minimum)_3.tif\",\n",
    "        \"datacube_north-america_period-(minimum)_4.tif\",\n",
    "        \"datacube_north-america_period-(minimum)_5.tif\",\n",
    "        \"datacube_north-america_period-(minimum)_6.tif\",\n",
    "        \"datacube_north-america_period-(minimum)_7.tif\",\n",
    "        \"datacube_north-america_period-(minimum)_8.tif\",\n",
    "        \"datacube_north-america_period-(minimum)_9.tif\",\n",
    "        \"datacube_north-america_period-(minimum)_10.tif\",\n",
    "        \"datacube_north-america_period-(minimum)_11.tif\",\n",
    "        \"datacube_north-america_period-(minimum)_12.tif\",\n",
    "        \"datacube_north-america_period-(minimum)_13.tif\",\n",
    "        \"datacube_north-america_period-(minimum)_14.tif\",\n",
    "        \"datacube_north-america_period-(minimum)_15.tif\",\n",
    "        \"datacube_north-america_period-(minimum)_16.tif\",\n",
    "        \"datacube_north-america_proximity-to-black-shales.tif\",\n",
    "        \"datacube_north-america_proximity-to-faults.tif\",\n",
    "        \"datacube_north-america_proximity-to-passive-margins.tif\",\n",
    "        \"datacube_north-america_proximity-to-terrane-boundaries.tif\",\n",
    "        \"datacube_north-america_satellite-gravity.tif\",\n",
    "        \"datacube_north-america_sedimentary-dictionaries.tif\",\n",
    "        \"datacube_north-america_target.tif\",\n",
    "        \"datacube_north-america_training_mvt_deposit.tif\",\n",
    "    ],\n",
    "    \"datacube_oceania.tif\": [\n",
    "        \"datacube_oceania_depth-to-lab.tif\",\n",
    "        \"datacube_oceania_depth-to-moho.tif\",\n",
    "        \"datacube_oceania_geology_paleolatitude_period_minimum.tif\",\n",
    "        \"datacube_oceania_gravity-bouguer.tif\",\n",
    "        \"datacube_oceania_gravity-hgm.tif\",\n",
    "        \"datacube_oceania_gravity-upward-continued-hgm.tif\",\n",
    "        \"datacube_oceania_gravity-upward-continued-worms.tif\",\n",
    "        \"datacube_oceania_gravity-worms.tif\",\n",
    "        \"datacube_oceania_igneous-dictionaries.tif\",\n",
    "        \"datacube_oceania_lithology-(major)_0.tif\",\n",
    "        \"datacube_oceania_lithology-(major)_1.tif\",\n",
    "        \"datacube_oceania_lithology-(major)_2.tif\",\n",
    "        \"datacube_oceania_lithology-(major)_3.tif\",\n",
    "        \"datacube_oceania_lithology-(major)_4.tif\",\n",
    "        \"datacube_oceania_lithology-(major)_5.tif\",\n",
    "        \"datacube_oceania_lithology-(major)_6.tif\",\n",
    "        \"datacube_oceania_lithology-(major)_7.tif\",\n",
    "        \"datacube_oceania_lithology-(major)_8.tif\",\n",
    "        \"datacube_oceania_lithology-(minor)_0.tif\",\n",
    "        \"datacube_oceania_lithology-(minor)_1.tif\",\n",
    "        \"datacube_oceania_lithology-(minor)_2.tif\",\n",
    "        \"datacube_oceania_lithology-(minor)_3.tif\",\n",
    "        \"datacube_oceania_lithology-(minor)_4.tif\",\n",
    "        \"datacube_oceania_lithology-(minor)_5.tif\",\n",
    "        \"datacube_oceania_lithology-(minor)_6.tif\",\n",
    "        \"datacube_oceania_lithology-(minor)_7.tif\",\n",
    "        \"datacube_oceania_lithology-(minor)_8.tif\",\n",
    "        \"datacube_oceania_magnetic-hgm.tif\",\n",
    "        \"datacube_oceania_magnetic-long-wavelength-hgm.tif\",\n",
    "        \"datacube_oceania_magnetic-long-wavelength-worms.tif\",\n",
    "        \"datacube_oceania_magnetic-worms.tif\",\n",
    "        \"datacube_oceania_metamorphic-dictionaries.tif\",\n",
    "        \"datacube_oceania_period-(maximum)_0.tif\",\n",
    "        \"datacube_oceania_period-(maximum)_1.tif\",\n",
    "        \"datacube_oceania_period-(maximum)_2.tif\",\n",
    "        \"datacube_oceania_period-(maximum)_3.tif\",\n",
    "        \"datacube_oceania_period-(maximum)_4.tif\",\n",
    "        \"datacube_oceania_period-(maximum)_5.tif\",\n",
    "        \"datacube_oceania_period-(maximum)_6.tif\",\n",
    "        \"datacube_oceania_period-(maximum)_7.tif\",\n",
    "        \"datacube_oceania_period-(maximum)_8.tif\",\n",
    "        \"datacube_oceania_period-(maximum)_9.tif\",\n",
    "        \"datacube_oceania_period-(maximum)_10.tif\",\n",
    "        \"datacube_oceania_period-(maximum)_11.tif\",\n",
    "        \"datacube_oceania_period-(maximum)_12.tif\",\n",
    "        \"datacube_oceania_period-(maximum)_13.tif\",\n",
    "        \"datacube_oceania_period-(maximum)_14.tif\",\n",
    "        \"datacube_oceania_period-(maximum)_15.tif\",\n",
    "        \"datacube_oceania_period-(maximum)_16.tif\",\n",
    "        \"datacube_oceania_period-(minimum)_0.tif\",\n",
    "        \"datacube_oceania_period-(minimum)_1.tif\",\n",
    "        \"datacube_oceania_period-(minimum)_2.tif\",\n",
    "        \"datacube_oceania_period-(minimum)_3.tif\",\n",
    "        \"datacube_oceania_period-(minimum)_4.tif\",\n",
    "        \"datacube_oceania_period-(minimum)_5.tif\",\n",
    "        \"datacube_oceania_period-(minimum)_6.tif\",\n",
    "        \"datacube_oceania_period-(minimum)_7.tif\",\n",
    "        \"datacube_oceania_period-(minimum)_8.tif\",\n",
    "        \"datacube_oceania_period-(minimum)_9.tif\",\n",
    "        \"datacube_oceania_period-(minimum)_10.tif\",\n",
    "        \"datacube_oceania_period-(minimum)_11.tif\",\n",
    "        \"datacube_oceania_period-(minimum)_12.tif\",\n",
    "        \"datacube_oceania_period-(minimum)_13.tif\",\n",
    "        \"datacube_oceania_period-(minimum)_14.tif\",\n",
    "        \"datacube_oceania_period-(minimum)_15.tif\",\n",
    "        \"datacube_oceania_period-(minimum)_16.tif\",\n",
    "        \"datacube_oceania_proximity-to-black-shales.tif\",\n",
    "        \"datacube_oceania_proximity-to-faults.tif\",\n",
    "        \"datacube_oceania_proximity-to-passive-margins.tif\",\n",
    "        \"datacube_oceania_proximity-to-terrane-boundaries.tif\",\n",
    "        \"datacube_oceania_satellite-gravity.tif\",\n",
    "        \"datacube_oceania_sedimentary-dictionaries.tif\",\n",
    "        \"datacube_oceania_target.tif\",\n",
    "        \"datacube_oceania_training_mvt_deposit.tif\",\n",
    "    ]\n",
    "}"
   ]
  },
  {
   "cell_type": "markdown",
   "metadata": {},
   "source": [
    "#### Generates the multi-band rasters"
   ]
  },
  {
   "cell_type": "code",
   "execution_count": 3,
   "metadata": {},
   "outputs": [
    {
     "name": "stderr",
     "output_type": "stream",
     "text": [
      "  0%|          | 0/2 [00:00<?, ?it/s]"
     ]
    },
    {
     "name": "stdout",
     "output_type": "stream",
     "text": [
      "Writing a multi-band tif with the following meta data: {'driver': 'GTiff', 'dtype': 'float32', 'nodata': nan, 'width': 12720, 'height': 5865, 'count': 75, 'crs': CRS.from_epsg(4326), 'transform': Affine(0.010000000000000002, 0.0, -179.8,\n",
      "       0.0, -0.01, 83.15)}\n"
     ]
    },
    {
     "name": "stderr",
     "output_type": "stream",
     "text": [
      "100%|██████████| 75/75 [12:24<00:00,  9.92s/it]\n",
      " 50%|█████     | 1/2 [15:48<15:48, 948.70s/it]"
     ]
    },
    {
     "name": "stdout",
     "output_type": "stream",
     "text": [
      "Writing a multi-band tif with the following meta data: {'driver': 'GTiff', 'dtype': 'float32', 'nodata': nan, 'width': 4069, 'height': 3410, 'count': 74, 'crs': CRS.from_epsg(4326), 'transform': Affine(0.01000245760629147, 0.0, 112.9,\n",
      "       0.0, -0.01, -9.5)}\n"
     ]
    },
    {
     "name": "stderr",
     "output_type": "stream",
     "text": [
      "100%|██████████| 74/74 [01:02<00:00,  1.18it/s]\n",
      "100%|██████████| 2/2 [17:31<00:00, 525.61s/it]\n"
     ]
    }
   ],
   "source": [
    "# location of single- and multi-band tifs\n",
    "output_dir = './data/lawley_rasters/'\n",
    "\n",
    "# generates multi-band tifs\n",
    "for multi_tif_file, tif_files in tqdm(multi_tif_files.items(), total=len(multi_tif_files)):\n",
    "    # extract tif meta\n",
    "    with rasterio.open(os.path.join(output_dir, tif_files[0]), \"r\") as tif:\n",
    "        tif_meta = tif.meta\n",
    "    # updates number of bands for multi-band tif and ensures float32\n",
    "    tif_meta.update({\"count\": len(tif_files)})\n",
    "    tif_meta.update({\"dtype\": \"float32\"})\n",
    "    # writes multi-band tif\n",
    "    print(f\"Writing a multi-band tif with the following meta data: {tif_meta}\")\n",
    "    with rasterio.open(os.path.join(output_dir, multi_tif_file), \"w\", **tif_meta) as multi_tif:\n",
    "        for idx, tif_file in tqdm(enumerate(tif_files), total=len(tif_files)):\n",
    "            with rasterio.open(os.path.join(output_dir, tif_file), \"r\") as tif:\n",
    "                tif_data = tif.read(1)\n",
    "            multi_tif.write_band(idx+1, tif_data)"
   ]
  }
 ],
 "metadata": {
  "kernelspec": {
   "display_name": "aie-cmaas",
   "language": "python",
   "name": "python3"
  },
  "language_info": {
   "codemirror_mode": {
    "name": "ipython",
    "version": 3
   },
   "file_extension": ".py",
   "mimetype": "text/x-python",
   "name": "python",
   "nbconvert_exporter": "python",
   "pygments_lexer": "ipython3",
   "version": "3.8.17"
  }
 },
 "nbformat": 4,
 "nbformat_minor": 2
}
